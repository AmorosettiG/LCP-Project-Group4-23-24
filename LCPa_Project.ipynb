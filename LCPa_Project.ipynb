{
 "cells": [
  {
   "cell_type": "markdown",
   "metadata": {},
   "source": [
    "<hr style=\"border: 1px solid black; width: 100%; margin-left: 0\">\n",
    "\n",
    "\n",
    "<div style=\"text-align:right\"> <b>University of Padua - Department of Physics and Astronomy<b> </div> \n",
    "<div style=\"text-align:right\"> <strong> Degree course: </strong> Physics of Data</div>\n",
    "<div style=\"text-align:right\"><strong>Course: </strong>Laboratory of Computational Physics<b> </div>\n",
    "<div style=\"text-align:right\"><strong>Year: </strong>2023-2024<b> </div>\n",
    "<div style=\"text-align:right\"><strong>Teacher in charge: </strong>Zanetti Marco<b> </div>\n",
    "    \n",
    "\n",
    "#### Students:\n",
    "- Cucchetto Filippo - 2110510 - filippo.cucchetto.1@studenti.unipd.it\n",
    "- Simioni Federico      - 2097001 - federico.simioni@studenti.unipd.it\n",
    "- Amorosetti Gabriel - 2107530 - gabriel.amorosetti@studenti.unipd.it\n",
    "- Quaglio Emanuele - 2106975 - emanuele.quaglio@studenti.unipd.it\n",
    "    \n",
    "<strong>Exam Date</strong>: 21th  of March 2024\n",
    "    \n",
    "<center>\n",
    "    \n",
    "# Tracking muons with 4 Drift Tubes chambers setup\n",
    "<center>\n",
    "<hr style=\"border: 1px solid black; width: 100%; margin-left: 0\">   "
   ]
  },
  {
   "cell_type": "markdown",
   "metadata": {},
   "source": [
    "# Introduction"
   ]
  },
  {
   "cell_type": "markdown",
   "metadata": {},
   "source": [
    "# 1. Setting up"
   ]
  },
  {
   "cell_type": "code",
   "execution_count": null,
   "metadata": {},
   "outputs": [],
   "source": [
    "import numpy as np\n",
    "import pandas as pd\n",
    "from matplotlib import pyplot as plt"
   ]
  },
  {
   "cell_type": "code",
   "execution_count": null,
   "metadata": {},
   "outputs": [],
   "source": [
    "# Cell dimensions\n",
    "XCELL = 42.\n",
    "ZCELL = 13.\n",
    "\n",
    "# X coordinates translation\n",
    "global_x_shifts = [994.2, 947.4,-267.4,-261.5,]\n",
    "\n",
    "# Z coordinates translations\n",
    "local_z_shifts = [z*ZCELL for z  in range(0,4)]\n",
    "global_z_shifts = [823.5, 0, 823.5, 0]\n",
    "\n",
    "''' \n",
    "runs identifyed by \n",
    "    -folder number \n",
    "    -start\n",
    "    -stop\n",
    "    -step numbering of files inside of the folder\n",
    "    -configuration of chambers selected for a given run (chambers are numbered from 0 to 3)\n",
    "'''\n",
    "\n",
    "# runs available to our analysis\n",
    "run260=[260,0,1,1,0,1]\n",
    "run261=[261,0,1,1,0,1]\n",
    "run262=[262,0,1,1,0,1]\n",
    "run331=[331,0,1046,1,0,1,2,3]\n",
    "run332=[332,29,1289,1,0,1,2,3]\n",
    "run333=[333,20,1586,5,0,1,2,3]"
   ]
  },
  {
   "cell_type": "code",
   "execution_count": null,
   "metadata": {},
   "outputs": [],
   "source": [
    "#assign to run variable the run you want to analyse\n",
    "run=run260 #->change this\n",
    "\n",
    "#creates the file paths\n",
    "half_path=\"./180904/Run\"+str(run[0]).zfill(6)+\"/data_\"\n",
    "start,stop,step=run[1],run[2],run[3]\n",
    "data_paths=[half_path+str(i).zfill(6)+'.txt' for i in range(start,stop,step)]\n",
    "\n",
    "#best detectors configuration for a given run ([0,1], [2,3] or [0,1,2,3])\n",
    "calib_config=list(run[4:])"
   ]
  },
  {
   "cell_type": "markdown",
   "metadata": {},
   "source": [
    "We import the dataset and store the non-null events in a dictionary `data_dict`, where the keys are `int` numbers indentifying each event, and the values associated are `pandas.DataFrame` objects storing the coordinates of all the event hits."
   ]
  },
  {
   "cell_type": "code",
   "execution_count": 85,
   "metadata": {},
   "outputs": [
    {
     "name": "stdout",
     "output_type": "stream",
     "text": [
      "The total number of events in the original datatset is: 8182\n",
      "The percentage of the null events (events with 0 hits) w.r.t. the original amount of events is: 40.931312637496944%\n"
     ]
    }
   ],
   "source": [
    "data_dict={}\n",
    "false_events_counter=0\n",
    "for data_path in data_paths:\n",
    "    with open(data_path) as data_file:\n",
    "        for line in data_file:\n",
    "            row=line.strip().split()\n",
    "            key=int(row[0])\n",
    "            n_hits=int(row[1])\n",
    "            if n_hits!=0:\n",
    "                data_array=np.array(row[2:]).reshape((n_hits, 5))\n",
    "                event_dict={}\n",
    "                columns=['chamber', 'layer', 'xleft', 'xright', 'time']\n",
    "                for i in range(2):\n",
    "                    event_dict[columns[i]]=data_array[:, i].astype(int)\n",
    "                for i in range(2,5):\n",
    "                    event_dict[columns[i]]=data_array[:, i].astype(float)\n",
    "                value=pd.DataFrame(event_dict)\n",
    "                data_dict[key]=value\n",
    "            else:\n",
    "                false_events_counter+=1\n",
    "original_data_length=len(data_dict)+false_events_counter\n",
    "print(f'The total number of events in the original datatset is: {original_data_length}')\n",
    "print(f\"The percentage of the null events (events with 0 hits) w.r.t. the original amount of events is: {false_events_counter/(len(data_dict)+false_events_counter)*100}%\")"
   ]
  },
  {
   "cell_type": "markdown",
   "metadata": {},
   "source": [
    "We add additional columns to each event `DataFrame` in order to store the global coordinates of the particle hits in a common reference frame for all the detector chambers:\n",
    "* `'xrg'` labels the global $x$-coordinate (of a hit) located on the right of the wire at the center of the respective cell;\n",
    "* `'xlg'` labels the global $x$-coordinate (of a hit) located on the left of the wire;\n",
    "* `'zg'` labels the global $z$-coordinate of the wire;\n",
    "* `'center'` labels the global $x$-coordinate of the wire;\n",
    "* `'valid_hit'` is a column of `bool` values that can be modified to store the information of the validity of each hit according to multiple requirements.\n"
   ]
  },
  {
   "cell_type": "code",
   "execution_count": null,
   "metadata": {},
   "outputs": [],
   "source": [
    "for event in data_dict.values():\n",
    "    event['xrg']=event.apply(lambda df: global_x_shifts[int(df['chamber'])]-df['xleft'], axis=1)\n",
    "    event['xlg']=event.apply(lambda df: global_x_shifts[int(df['chamber'])]-df['xright'], axis=1)\n",
    "    event['zg']=event.apply(lambda df: global_z_shifts[int(df['chamber'])]-local_z_shifts[int(df['layer'])-1]+4*ZCELL-ZCELL/2, axis=1)\n",
    "    event['center']=(event['xlg']+event['xrg'])/2\n",
    "    event['valid_hit']=pd.Series(np.ones(len(event)).astype(bool))"
   ]
  },
  {
   "cell_type": "code",
   "execution_count": null,
   "metadata": {},
   "outputs": [],
   "source": [
    "fig, ax=plt.subplots()\n",
    "count=0\n",
    "for event in data_dict.values():\n",
    "    ax.scatter(event['xlg'], event['zg'], color='blue', alpha=0.2)\n",
    "    ax.scatter(event['xrg'], event['zg'], color='red', alpha=0.2)\n",
    "    ax.plot((event.groupby('chamber').mean().reset_index()['xlg']+event.groupby('chamber').mean().reset_index()['xlg'])/2, event.groupby('chamber').mean().reset_index()['zg'], '-')\n",
    "    count+=1\n",
    "    if(count>=100):\n",
    "        break\n",
    "#ax.set_xlim(-450, -405)\n",
    "plt.show()"
   ]
  },
  {
   "cell_type": "markdown",
   "metadata": {},
   "source": [
    "Below we plot the distribution of the hits of the considered run on the $xz$ plane. Dots corresponding to hits belonging to the same event are the same color. Only the `xrg` coordinate is considered."
   ]
  },
  {
   "cell_type": "code",
   "execution_count": 84,
   "metadata": {},
   "outputs": [
    {
     "data": {
      "image/png": "[encoded data removed]",
      "text/plain": [
       "<Figure size 640x480 with 1 Axes>"
      ]
     },
     "metadata": {},
     "output_type": "display_data"
    }
   ],
   "source": [
    "from matplotlib.patches import Rectangle\n",
    "fig, ax=plt.subplots()\n",
    "'hits of the same event have the same color, only the `xrg` coordinate is considered'\n",
    "ax.set_title(f'Hits distribution of run {run[0]}')\n",
    "ax.set_xlabel('x [mm]')\n",
    "ax.set_ylabel('z [mm]')\n",
    "#drawing the detectors   \n",
    "for i in range(4):\n",
    "    x_origs=np.array(global_x_shifts)-700\n",
    "    z_origs=global_z_shifts\n",
    "    detector=Rectangle([x_origs[i], z_origs[i]], 700, 4*ZCELL, edgecolor='gray', facecolor='white')\n",
    "    ax.add_artist(detector)\n",
    "count=0\n",
    "max_event_number=max(data_dict.keys())\n",
    "min_event_number=min(data_dict.keys())\n",
    "for event_item in data_dict.items():\n",
    "    event_number=event_item[0]\n",
    "    event=event_item[1]\n",
    "    ax.scatter(event['xrg'], event['zg'], color=plt.cm.Spectral(plt.Normalize(vmin=min_event_number, vmax=max_event_number)(event_number)), alpha=0.05, s=10)\n",
    "    #ax.scatter(event['xrg'], event['zg'], color='red', alpha=0.2)\n",
    "    #ax.plot((event.groupby('chamber').mean().reset_index()['xlg']+event.groupby('chamber').mean().reset_index()['xlg'])/2, event.groupby('chamber').mean().reset_index()['zg'], '-')\n",
    "    count+=1\n",
    "    #if(count>=100):\n",
    "    #    break\n",
    "    '''\n",
    "    for hit in event:\n",
    "        cells(center(hit))+=1\n",
    "    '''\n",
    "#ax.set_xlim(-450, -405)\n",
    "\n",
    "plt.show()"
   ]
  },
  {
   "cell_type": "markdown",
   "metadata": {},
   "source": [
    "As it is expected for the calibration runs, we observe a higher density of hits on a particular subset of the chambers. To confirm quantitatively such behaviour, below we plot the histogram showing the detectors involved in each event:"
   ]
  },
  {
   "cell_type": "code",
   "execution_count": null,
   "metadata": {},
   "outputs": [],
   "source": [
    "fig,ax=plt.subplots(figsize=(12,7))\n",
    "bins, counts=(np.unique([str(sorted(np.unique(event['chamber']))) for event in data_dict.values()], return_counts=True))\n",
    "zipped=zip(counts, bins)\n",
    "sortedzipped=sorted(zipped, reverse=True)\n",
    "#print(sortedzipped)\n",
    "[counts, bins]=zip(*sortedzipped)\n",
    "#print(bins, counts)\n",
    "ax.bar(bins, counts, edgecolor='black')\n",
    "fig.tight_layout()\n",
    "ax.set_xlabel('detectors involved')\n",
    "ax.set_ylabel('number of events')\n",
    "ax.set_title('Number of events for any combination of triggered chambers')"
   ]
  },
  {
   "cell_type": "code",
   "execution_count": null,
   "metadata": {},
   "outputs": [],
   "source": [
    "n_hits_per_event=[len(event) for event in data_dict.values()]\n",
    "print(f'average n_hits per event: {np.mean(n_hits_per_event)}')\n",
    "print(f' most frequent n_hits per event {np.unique(n_hits_per_event)[np.argmax(np.unique(n_hits_per_event, return_counts=True)[1])]}')\n",
    "plt.hist(n_hits_per_event, bins=(max(n_hits_per_event)-min(n_hits_per_event)), edgecolor='gray', )\n",
    "#plt.hist(n_hits_per_event, edgecolor='gray')\n",
    "print()\n",
    "plt.xlabel('number of hits')\n",
    "plt.ylabel('number of events')\n",
    "plt.title(f'number of events vs number of hits for the {calib_config} chambers events')"
   ]
  },
  {
   "cell_type": "code",
   "execution_count": null,
   "metadata": {},
   "outputs": [],
   "source": [
    "n_hits_per_event=[len(event) for event in data_dict.values() if sorted(np.unique(event['chamber']))==calib_config]\n",
    "print(f'average n_hits per event: {np.mean(n_hits_per_event)}')\n",
    "print(f' most frequent n_hits per event {np.unique(n_hits_per_event)[np.argmax(np.unique(n_hits_per_event, return_counts=True)[1])]}')\n",
    "plt.hist(n_hits_per_event, bins=(max(n_hits_per_event)-min(n_hits_per_event)), edgecolor='gray')\n",
    "#plt.hist(n_hits_per_event, edgecolor='gray')\n",
    "print()\n",
    "plt.xlabel('number of hits')\n",
    "plt.ylabel('number of events')\n",
    "plt.title(f'number of events vs number of hits for the {calib_config} chambers events')"
   ]
  },
  {
   "cell_type": "code",
   "execution_count": null,
   "metadata": {},
   "outputs": [],
   "source": [
    "'''\n",
    "print(not np.any(np.array(data_dict[4].groupby('chamber').count().reset_index()['layer']<3)))\n",
    "print(data_dict[4])\n",
    "'''"
   ]
  },
  {
   "cell_type": "code",
   "execution_count": null,
   "metadata": {},
   "outputs": [],
   "source": [
    "print(list((np.abs(event['xleft']-event['xright'])>XCELL).index))\n",
    "print(data_dict[1].index)"
   ]
  },
  {
   "cell_type": "markdown",
   "metadata": {},
   "source": [
    "# 2. Reconstruction on calibration run"
   ]
  },
  {
   "cell_type": "code",
   "execution_count": null,
   "metadata": {},
   "outputs": [],
   "source": [
    "#filters for event selection\n",
    "\n",
    "def desired_chamber_config(event):\n",
    "    '''\n",
    "    print('DCC event: ',event[event['valid_hit']==True])\n",
    "    print('DCC chamber col', event[event['valid_hit']==True]['chamber'])\n",
    "    print('DCC config', sorted(np.unique(event[event['valid_hit']==True]['chamber'])))\n",
    "    '''\n",
    "    return sorted(np.unique(event['chamber']))==calib_config\n",
    "\n",
    "def desired_chamber_config_only_valids(event):\n",
    "    return sorted(np.unique(event[event['valid_hit']==True]['chamber']))==calib_config\n",
    "\n",
    "def at_least_three_layers_per_det(event):\n",
    "    return not np.any(event[event['valid_hit']==True].groupby('chamber')['layer'].nunique().reset_index()['layer']<3) and desired_chamber_config_only_valids(event)\n",
    "\n",
    "def one_hit_per_layer(event):\n",
    "    return not np.any(event.groupby(['chamber', 'layer']).count().reset_index()['time']!=1)\n",
    "\n",
    "def max_two_hits_per_layer(event):\n",
    "    return not np.any(event.groupby(['chamber', 'layer']).count().reset_index()['time']>2)\n",
    "\n",
    "def max_two_layers_with_more_than_one_hit(event):\n",
    "    return not np.count_nonzero(event.groupby(['chamber', 'layer']).count().reset_index()['time']>1)>2\n",
    "\n",
    "    '''\n",
    "    print('1', np.array(event['valid_hit']==True))\n",
    "    print('2', np.array(event[event['valid_hit']==True].groupby('chamber')['layer']))\n",
    "    print('3', event[event['valid_hit']==True].groupby('chamber')['layer'].value_counts().reset_index())\n",
    "    print('4', np.array(event[event['valid_hit']==True].groupby('chamber')['layer'].value_counts().reset_index()))\n",
    "    print('5', np.array(event[event['valid_hit']==True].groupby('chamber')['layer'].reset_index()).unique(return_counts=True)[1])\n",
    "    print('6', np.array(event[event['valid_hit']==True].groupby('chamber')['layer'].reset_index()).unique(return_counts=True)[1]>1)\n",
    "    print('7', (np.array(event[event['valid_hit']==True].groupby('chamber')['layer'].reset_index()).unique(return_counts=True)[1]>1).count()<=2)\n",
    "    return (np.array(event[event['valid_hit']==True].groupby('chamber')['layer'].reset_index()).unique(return_counts=True)[1]>1).count()<=2\n",
    "    '''\n",
    "\n",
    "#filters for (bad) hit selection\n",
    "\n",
    "def coordinates_outside_cell(event):\n",
    "    return list(event[np.abs(event['xleft']-event['xright'])>XCELL].index)\n",
    "\n",
    "def deviant_hit(event): \n",
    "    n_sigmas_treshhold=2\n",
    "    bad_indices=[]\n",
    "    def other_hits_mu_std(out_index, event):\n",
    "        index=list(event[event['chamber']==event.loc[out_index]['chamber']].index)\n",
    "        index.remove(out_index)\n",
    "        print('index', index)\n",
    "        return event.loc[index]['center'].mean(), event.loc[index]['center'].std() \n",
    "        \n",
    "    for out_index, row in event.iterrows():\n",
    "        print('out_index', out_index)\n",
    "        mu, std=other_hits_mu_std(out_index, event)\n",
    "        print(row['center'], mu, abs(row['center']-mu), n_sigmas_treshhold*std, XCELL)\n",
    "        if abs(row['center']-mu)> max(n_sigmas_treshhold*std, XCELL):\n",
    "            bad_indices.append(out_index)\n",
    "    return bad_indices\n",
    "\n",
    "#filter applicators:\n",
    "\n",
    "def event_filter(keys_list, e_filter): #modifies the list of keys\n",
    "    return list(filter(lambda key : e_filter(data_dict[key]), keys_list))\n",
    "\n",
    "def hit_filter(keys_list, h_filter): #modifies in place the 'valid_hit' column of dataset\n",
    "    for key in keys_list:\n",
    "        event=data_dict[key]\n",
    "        #the \"bad\" filters return lists of \"bad\" hit indices, to be set to false. So the lists can just be concatenate with \"+\"\n",
    "        bad_rows_indices_list=h_filter(event)\n",
    "        print('badrowsindes: ',key, bad_rows_indices_list)\n",
    "        #print('before:', event)\n",
    "        event.loc[bad_rows_indices_list,'valid_hit'] = False\n",
    "        #print('after:', event)\n"
   ]
  },
  {
   "cell_type": "code",
   "execution_count": null,
   "metadata": {},
   "outputs": [],
   "source": [
    "#FILTERS APPLICATION (both event_filters and hit_filters):\n",
    "#NB: THE ORDER MATTERS!\n",
    "impeccable_events=event_filter(data_dict, desired_chamber_config)\n",
    "impeccable_events=event_filter(impeccable_events, max_two_layers_with_more_than_one_hit)\n",
    "print(f\"ratio between impeccable events and nonzerohit events {len(impeccable_events)/len(data_dict)}\\n\", f\"ratio between impeccable events and original dataset events {len(impeccable_events)/original_data_length}\")\n",
    "hit_filter(impeccable_events, coordinates_outside_cell)\n",
    "print(f\"ratio between impeccable events and nonzerohit events {len(impeccable_events)/len(data_dict)}\\n\", f\"ratio between impeccable events and original dataset events {len(impeccable_events)/original_data_length}\")\n",
    "hit_filter(impeccable_events, deviant_hit)\n",
    "print(f\"ratio between impeccable events and nonzerohit events {len(impeccable_events)/len(data_dict)}\\n\", f\"ratio between impeccable events and original dataset events {len(impeccable_events)/original_data_length}\")\n",
    "impeccable_events=event_filter(impeccable_events, at_least_three_layers_per_det)\n",
    "#impeccable_events=event_filter(data_dict, desired_chamber_config)\n",
    "\n",
    "print(impeccable_events)\n",
    "print(len(impeccable_events))\n",
    "print(f\"ratio between impeccable events and nonzerohit events {len(impeccable_events)/len(data_dict)}\\n\", f\"ratio between impeccable events and original dataset events {len(impeccable_events)/original_data_length}\")"
   ]
  },
  {
   "cell_type": "code",
   "execution_count": null,
   "metadata": {},
   "outputs": [],
   "source": [
    "\n",
    "event=data_dict[4944]\n",
    "#print( 'mu std', event.loc[[7,8,9]]['center'].mean(), event.loc[[7,8,9]]['center'].std() )\n",
    "print(event)\n",
    "print()\n",
    "hit_filter([4944], coordinates_outside_cell)\n",
    "#event_plotter(2)\n",
    "print(coordinates_outside_cell(event))\n",
    "print(event)\n",
    "print('!!!', max_two_layers_with_more_than_one_hit(event))"
   ]
  },
  {
   "cell_type": "code",
   "execution_count": null,
   "metadata": {},
   "outputs": [],
   "source": [
    "\n",
    "print(data_dict[95]['layer'].unique())\n",
    "print(data_dict[95])\n"
   ]
  },
  {
   "cell_type": "code",
   "execution_count": null,
   "metadata": {},
   "outputs": [],
   "source": [
    "from itertools import product\n",
    "from math import atan2\n",
    "from scipy.stats import linregress\n",
    "\n",
    "\n",
    "def angle(A,B, C=None):\n",
    "    #takes two points A and B with coordinates A=(xA,yA)... and return the angle on the plane in radiants\n",
    "    #OR takes three points A, B, C with coordinates A=(xA,yA).. and return the difference angle BC^-AB^\n",
    "    if C==None:\n",
    "        return np.pi/2-atan2(A[1]-B[1], A[0]-B[0])\n",
    "    else:\n",
    "        difference=np.abs(angle(B,C)-angle(A,B))\n",
    "        return min(2*np.pi-difference, difference)\n",
    "\n",
    "def zigzaginess(path):\n",
    "    try:\n",
    "        if(len(path)>=3):\n",
    "            squaresum=0\n",
    "            for i in range(len(path)-2):\n",
    "                A=path[i]\n",
    "                B=path[i+1]\n",
    "                C=path[i+2]\n",
    "                squaresum+=(angle(B,C)-angle(A,B))**2\n",
    "            return squaresum\n",
    "        else:\n",
    "            raise Exception(\"Error: path of less than 3 points\")\n",
    "    except Exception as err:\n",
    "        print(err)\n",
    "    \n",
    "def tangent_zigzaginess(path):\n",
    "    try:\n",
    "        if(len(path)>=3):\n",
    "\n",
    "            deviation_sum=0\n",
    "            length_sum=0\n",
    "\n",
    "            for i in range(len(path)-2):\n",
    "                A=path[i]\n",
    "                B=path[i+1]\n",
    "                C=path[i+2]\n",
    "                deviation_sum+=(atan2(B[0]-C[0], B[1]-C[1])-atan2(A[0]-B[0], A[1]-B[1]))**2\n",
    "            deviation_weight=0\n",
    "\n",
    "            for i in range(len(path)-1):\n",
    "                A=path[i]\n",
    "                B=path[i+1]\n",
    "                length_sum+=(B[0]-A[0])**2+(B[1]-A[1])**2\n",
    "            length_weight=1\n",
    "\n",
    "            A,B,C,D=path[0], path[1], path[-2], path[-1]\n",
    "            first_last_deviation=(atan2(C[0]-D[0], C[1]-D[1])-atan2(A[0]-B[0], A[1]-B[1]))**2\n",
    "            fldev_weight=1\n",
    "\n",
    "            return deviation_weight*deviation_sum+fldev_weight*first_last_deviation+length_weight*length_sum\n",
    "        else:\n",
    "            raise Exception(\"Error: path of less than 3 points\")\n",
    "    except Exception as err:\n",
    "        print(err)\n",
    "\n",
    "def mse(path):\n",
    "    x,z=zip(*path)\n",
    "    res=linregress(z,x)\n",
    "    sum=0\n",
    "    for i in range(len(x)):\n",
    "        sum+=(x[i]-(res.slope*z[i]+res.intercept))**2\n",
    "    return sum/len(x)\n",
    "\n",
    "def mse_plus_verticality_compatibility(path):\n",
    "    x,z=zip(*path)\n",
    "    res=linregress(z,x)\n",
    "    sum=0\n",
    "    for i in range(len(x)):\n",
    "        sum+=(x[i]-(res.slope*z[i]+res.intercept))**2\n",
    "    verticality_weight=0\n",
    "    return sum/len(x)+verticality_weight*(res.slope)**2 #res.slope is prop to comp_index between fit slope and average global (vertical fit)\n",
    "\n",
    "def opt_track(event, chamber):\n",
    "    valid_subevent=event[event['chamber']==chamber][event['valid_hit']==True]\n",
    "    valid_subevent=valid_subevent.sort_values(by='zg')\n",
    "\n",
    "    axes=[]\n",
    "    for layer in np.sort(valid_subevent['layer'].unique()):\n",
    "        axis=[]\n",
    "        for index, row in valid_subevent[event['layer']==layer].iterrows():\n",
    "            for coord in [row['xlg'], row['xrg']]:\n",
    "                axis.append((coord, row['zg']))\n",
    "        axes.append(axis)\n",
    "\n",
    "    #axes=[['xrg', 'xlg']]*len(valid_subevent)\n",
    "    paths=list(product(*axes))\n",
    "    \n",
    "    #paths=[[(np.array(valid_subevent[xc[i]])[i], np.array(valid_subevent['zg'])[i] ) for i in range(len(valid_subevent))] for xc in xcs]\n",
    "    #sorting_function=(lambda path : abs(pearsonr(*zip(*path)).pvalue))\n",
    "    #sorting_function=(lambda path : abs(np.corrcoef(*zip(*path))[0,1]))\n",
    "    #straightness_function=lambda x: -tangent_zigzaginess(x)\n",
    "    \n",
    "    straightness_function=lambda x: -mse_plus_verticality_compatibility(x)\n",
    "    best_path=max(paths, key=straightness_function)\n",
    "    path_score=straightness_function(best_path)\n",
    "    return best_path"
   ]
  },
  {
   "cell_type": "code",
   "execution_count": null,
   "metadata": {},
   "outputs": [],
   "source": [
    "from matplotlib.patches import Rectangle\n",
    "from scipy.stats import linregress\n",
    "\n",
    "def event_plotter(event_number, plot_ax=None):\n",
    "    my_event=data_dict[event_number]\n",
    "    x_centers, z_centers=(my_event['xlg']+my_event['xrg'])/2, my_event['zg']\n",
    "    if plot_ax==None:\n",
    "        fig, ax=plt.subplots(figsize=(12,10))\n",
    "    else:\n",
    "        ax=plot_ax\n",
    "\n",
    "    #drawing the detectors   \n",
    "    for i in range(4):\n",
    "        x_origs=np.array(global_x_shifts)-700\n",
    "        z_origs=global_z_shifts\n",
    "        detector=Rectangle([x_origs[i], z_origs[i]], 700, 4*ZCELL, edgecolor='gray', facecolor='white')\n",
    "        ax.add_artist(detector)\n",
    "\n",
    "    #drawing the triggered cells\n",
    "    for i in range(len(my_event)):\n",
    "        rect=Rectangle([x_centers[i]-XCELL/2, z_centers[i]-ZCELL/2], XCELL, ZCELL, edgecolor='black', facecolor='white')\n",
    "        ax.add_artist(rect)\n",
    "\n",
    "    #drawing the points of hits\n",
    "    dots_size=int(ax.get_position().width*20)+1\n",
    "    ax.scatter(my_event['xlg'], my_event['zg'], color='blue', s=dots_size)\n",
    "    ax.scatter(my_event['xrg'], my_event['zg'], color='red', s=dots_size)\n",
    "    XRANGE=[-1000, 1000]\n",
    "    YRANGE=[-100, 950]\n",
    "    ax.set_xlim(XRANGE)\n",
    "    ax.set_ylim(YRANGE)\n",
    "    ax.set_xlabel('x [mm]')\n",
    "    ax.set_ylabel('z [mm]')\n",
    "    ax.set_title(f'Event {event_number}', size=16)\n",
    "\n",
    "    def tracker_fitter(in_line_chambers):\n",
    "        #print('chamber:', in_line_chambers[0])\n",
    "        (xu,zu)=zip(*opt_track(my_event, in_line_chambers[0]))\n",
    "        #print('chamber:', in_line_chambers[1])\n",
    "        (xd,zd)=zip(*opt_track(my_event, in_line_chambers[1]))\n",
    "        x=np.concatenate([xu,xd])\n",
    "        z=np.concatenate([zu,zd])\n",
    "\n",
    "        resu=linregress(zu,xu)\n",
    "        resd=linregress(zd,xd)\n",
    "        res=linregress(z,x)\n",
    "\n",
    "        xspace=np.linspace(*XRANGE, 1000)\n",
    "        ax.plot(xspace, 1/resu.slope*xspace-resu.intercept/resu.slope, '--')\n",
    "        ax.plot(xspace, 1/resd.slope*xspace-resd.intercept/resd.slope, '--')\n",
    "        ax.plot(xspace, 1/res.slope*xspace-res.intercept/res.slope, color='black')\n",
    "    \n",
    "    for i in range(0,len(calib_config),2):\n",
    "        tracker_fitter(calib_config[i:i+2])\n",
    "\n",
    "    if plot_ax==None:\n",
    "        plt.show()"
   ]
  },
  {
   "cell_type": "code",
   "execution_count": null,
   "metadata": {},
   "outputs": [],
   "source": [
    "def event_filter_from_fit(event_number):\n",
    "    event_is_tricky=False\n",
    "    my_event=data_dict[event_number]\n",
    "    x_centers, z_centers=(my_event['xlg']+my_event['xrg'])/2, my_event['zg']\n",
    "\n",
    "    def tracker_fitter(in_line_chambers):\n",
    "        is_tricky=False\n",
    "        #print('chamber:', in_line_chambers[0])\n",
    "        (xu,zu)=zip(*opt_track(my_event, in_line_chambers[0]))\n",
    "        #print('chamber:', in_line_chambers[1])\n",
    "        (xd,zd)=zip(*opt_track(my_event, in_line_chambers[1]))\n",
    "        x=np.concatenate([xu,xd])\n",
    "        z=np.concatenate([zu,zd])\n",
    "\n",
    "        resu=linregress(zu,xu)\n",
    "        resd=linregress(zd,xd)\n",
    "        res=linregress(z,x)\n",
    "\n",
    "        #criteria for trickyness \n",
    "        def angle_criterium(xu,zu,xd,zd,resu,resd,res):\n",
    "            angle_tresh=np.pi/4\n",
    "            return abs(np.arctan(resu.slope)-np.arctan(res.slope))>angle_tresh or abs(np.arctan(resd.slope)-np.arctan(res.slope))>angle_tresh\n",
    "        \n",
    "        def fit_compatibility_criterium(xu,zu,xd,zd,resu,resd,res):\n",
    "            comp_index_tresh=3\n",
    "            comp_index='...'\n",
    "            return comp_index>comp_index_tresh\n",
    "        \n",
    "\n",
    "\n",
    "        #if abs(resu.slope)>ang_coef_tresh or abs(resd.slope)>ang_coef_tresh: event_is_tricky=True\n",
    "        if angle_criterium(xu,zu,xd,zd,resu,resd,res): is_tricky=True\n",
    "        #ax.plot(xu,zu)\n",
    "        #ax.plot(xd,zd)\n",
    "        return is_tricky\n",
    "    \n",
    "    for i in range(0,len(calib_config),2):\n",
    "        is_tricky=tracker_fitter(calib_config[i:i+2])\n",
    "        if is_tricky: event_is_tricky=True\n",
    "    #print(event_number)\n",
    "    #print(my_event)\n",
    "\n",
    "    return event_number, event_is_tricky"
   ]
  },
  {
   "cell_type": "code",
   "execution_count": null,
   "metadata": {},
   "outputs": [],
   "source": [
    "tricky_events=[]\n",
    "for event_n in impeccable_events:\n",
    "    event_number, event_is_tricky=event_filter_from_fit(event_n)\n",
    "    if event_is_tricky:\n",
    "        tricky_events.append(event_number)\n",
    "\n",
    "print('TRICKY EVENTS: ', tricky_events)\n",
    "print(f'# pre-fit good events: {len(impeccable_events)}')\n",
    "print(f'# post-fit good events: {len(impeccable_events)-len(tricky_events)}')\n",
    "print(f'precentage of good events showing good agreements between local and global fit: {(len(impeccable_events)-len(tricky_events))/len(impeccable_events)*100}%')\n",
    "print(f'precentage of events in original dataset showing good agreements between local and global fit: {(len(impeccable_events)-len(tricky_events))/original_data_length*100}%')\n",
    "\n",
    "events_to_plot=[item for item in impeccable_events if item not in tricky_events]\n",
    "n_plots=len(events_to_plot)\n",
    "n_cols=3\n",
    "fig,axes=plt.subplots(ncols=n_cols, nrows=n_plots//n_cols+1, figsize=(14,(14/n_cols)*(n_plots//n_cols+1)))\n",
    "k=0\n",
    "for ax in axes.reshape(-1):\n",
    "    if(k<len(events_to_plot)):\n",
    "        event_plotter(events_to_plot[k], plot_ax=ax)\n",
    "    else:\n",
    "        ax.axis('off')\n",
    "    k+=1\n",
    "fig.tight_layout()"
   ]
  },
  {
   "cell_type": "code",
   "execution_count": null,
   "metadata": {},
   "outputs": [],
   "source": [
    "print(events_to_plot)"
   ]
  },
  {
   "cell_type": "markdown",
   "metadata": {},
   "source": [
    "### Let's observe that the eighth hit of 51-th event of first calibration run (so maybe other ones too) not only presents xleft and xright farther apart than the width of a cell, but neither of the two isn't compatible with a fitting line for the trajectory"
   ]
  },
  {
   "cell_type": "code",
   "execution_count": null,
   "metadata": {},
   "outputs": [],
   "source": [
    "#numbers_to_check=[17959]\n",
    "numbers_to_check=tricky_events\n",
    "for number_to_check in numbers_to_check:\n",
    "    print(data_dict[number_to_check])\n",
    "    print('filter result: ', at_least_three_layers_per_det(data_dict[number_to_check]))\n",
    "    event_plotter(number_to_check)\n"
   ]
  },
  {
   "cell_type": "code",
   "execution_count": null,
   "metadata": {},
   "outputs": [],
   "source": [
    "print(events_to_plot)"
   ]
  },
  {
   "cell_type": "code",
   "execution_count": null,
   "metadata": {},
   "outputs": [],
   "source": [
    "previous_events_to_plot=[95, 273, 1487, 6577, 8556, 9523, 9525, 9593, 9775, 10475, 14573, 15810, 17222, 17569, 18635, 22281, 23701, 24070, 25252, 26112, 26629, 27506, 35576, 38174, 39825, 40046, 40407, 43905, 45686, 49274, 49846, 50094, 50958, 51412, 51581, 54198, 54286, 54928, 55290, 55866, 56209, 56242, 56419, 56720, 57149, 58081, 58858, 58933, 59974, 60361]\n"
   ]
  },
  {
   "cell_type": "code",
   "execution_count": null,
   "metadata": {},
   "outputs": [],
   "source": [
    "print(len(events_to_plot), len(previous_events_to_plot), len([event for event in previous_events_to_plot if event in events_to_plot]))"
   ]
  },
  {
   "cell_type": "code",
   "execution_count": null,
   "metadata": {},
   "outputs": [],
   "source": [
    "print([event for event in events_to_plot if event not in previous_events_to_plot])"
   ]
  },
  {
   "cell_type": "code",
   "execution_count": null,
   "metadata": {},
   "outputs": [],
   "source": [
    "#numbers_to_check=[3237]\n",
    "numbers_to_check=tricky_events\n",
    "for number_to_check in numbers_to_check:\n",
    "    print(data_dict[number_to_check])\n",
    "    print('filter result: ', at_least_three_layers_per_det(data_dict[number_to_check]))\n",
    "    event_plotter(number_to_check)\n"
   ]
  },
  {
   "cell_type": "markdown",
   "metadata": {},
   "source": [
    "### We reconsider only the tricky events and apply a different path selection algorithm that rewards, on top of the most linear paths, also a better compatibility of the local fit with the assumption that the muon trajectory is likely vertical in the x-z plane. To do that we set the vericality_weight parameter to 10."
   ]
  },
  {
   "cell_type": "code",
   "execution_count": null,
   "metadata": {},
   "outputs": [],
   "source": [
    "def mse_plus_verticality_compatibility(path):\n",
    "    x,z=zip(*path)\n",
    "    res=linregress(z,x)\n",
    "    sum=0\n",
    "    for i in range(len(x)):\n",
    "        sum+=(x[i]-(res.slope*z[i]+res.intercept))**2\n",
    "    verticality_weight=10\n",
    "    return sum/len(x)+verticality_weight*(res.slope)**2 #res.slope is prop to comp_index between fit slope and average global (vertical fit)\n",
    "\n",
    "still_tricky_events=[]\n",
    "for event_n in impeccable_events:\n",
    "    event_number, event_is_tricky=event_filter_from_fit(event_n)\n",
    "    if event_is_tricky:\n",
    "        still_tricky_events.append(event_number)\n",
    "\n",
    "print('STILL TRICKY EVENTS: ', still_tricky_events)\n",
    "print(f'# pre-fit good events: {len(impeccable_events)}')\n",
    "print(f'# post-fit good events: {len(impeccable_events)-len(still_tricky_events)}')\n",
    "print(f'precentage of good events showing good agreements between local and global fit: {(len(impeccable_events)-len(still_tricky_events))/len(impeccable_events)*100}%')\n",
    "print(f'precentage of events in original dataset showing good agreements between local and global fit: {(len(impeccable_events)-len(still_tricky_events))/original_data_length*100}%')\n",
    "\n",
    "events_to_plot=[item for item in tricky_events if item not in still_tricky_events]\n",
    "n_plots=len(events_to_plot)\n",
    "n_cols=3\n",
    "fig,axes=plt.subplots(ncols=n_cols, nrows=n_plots//n_cols+1, figsize=(14,(14/n_cols)*(n_plots//n_cols+1)))\n",
    "k=0\n",
    "for ax in axes.reshape(-1):\n",
    "    if(k<len(events_to_plot)):\n",
    "        event_plotter(events_to_plot[k], plot_ax=ax)\n",
    "    else:\n",
    "        ax.axis('off')\n",
    "    k+=1\n",
    "fig.tight_layout()"
   ]
  },
  {
   "cell_type": "markdown",
   "metadata": {},
   "source": [
    "# 3. Reconstruction on physics runs"
   ]
  },
  {
   "cell_type": "markdown",
   "metadata": {},
   "source": []
  }
 ],
 "metadata": {
  "kernelspec": {
   "display_name": "Python 3",
   "language": "python",
   "name": "python3"
  },
  "language_info": {
   "codemirror_mode": {
    "name": "ipython",
    "version": 3
   },
   "file_extension": ".py",
   "mimetype": "text/x-python",
   "name": "python",
   "nbconvert_exporter": "python",
   "pygments_lexer": "ipython3",
   "version": "3.11.5"
  }
 },
 "nbformat": 4,
 "nbformat_minor": 2
}
